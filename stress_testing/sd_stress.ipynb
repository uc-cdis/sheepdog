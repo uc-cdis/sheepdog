{
 "cells": [
  {
   "cell_type": "code",

   "execution_count": null,

   "metadata": {},
   "outputs": [
    {
     "name": "stderr",
     "output_type": "stream",
     "text": [
      "/Users/saxelrod/uc-cdis/sheepdog/.venv/lib/python3.9/site-packages/urllib3/__init__.py:35: NotOpenSSLWarning: urllib3 v2 only supports OpenSSL 1.1.1+, currently the 'ssl' module is compiled with 'LibreSSL 2.8.3'. See: https://github.com/urllib3/urllib3/issues/3020\n",
      "  warnings.warn(\n"
     ]
    }
   ],
   "source": [
    "\n",
    "#Install required libraries\n",
    "import pandas as pd\n",
    "from gen3.submission import Gen3Submission\n",
    "from gen3.auth import Gen3Auth\n",
    "from gen3.query import Gen3Query"
   ]
  },
  {
   "cell_type": "code",

   "execution_count": null,

   "metadata": {},
   "outputs": [
    {
     "name": "stderr",
     "output_type": "stream",
     "text": [
      "--2025-03-07 17:07:40--  https://raw.githubusercontent.com/cgmeyer/gen3sdk-python/master/expansion/expansion.py\n",
      "Resolving raw.githubusercontent.com (raw.githubusercontent.com)... 185.199.108.133, 185.199.109.133, 185.199.110.133, ...\n",
      "Connecting to raw.githubusercontent.com (raw.githubusercontent.com)|185.199.108.133|:443... connected.\n",
      "HTTP request sent, awaiting response... 200 OK\n",
      "Length: 235484 (230K) [text/plain]\n",
      "Saving to: ‘expansion.py.1’\n",
      "\n",
      "     0K .......... .......... .......... .......... .......... 21% 3.16M 0s\n",
      "    50K .......... .......... .......... .......... .......... 43% 3.82M 0s\n",
      "   100K .......... .......... .......... .......... .......... 65% 7.84M 0s\n",
      "   150K .......... .......... .......... .......... .......... 86% 10.3M 0s\n",
      "   200K .......... .......... .........                       100% 11.9M=0.04s\n",
      "\n",
      "2025-03-07 17:07:40 (5.39 MB/s) - ‘expansion.py.1’ saved [235484/235484]\n",
      "\n"
     ]
    },
    {
     "data": {
      "text/plain": [
       "0"
      ]
     },
     "execution_count": 11,
     "metadata": {},
     "output_type": "execute_result"
    }
   ],
   "source": [
    "### download and import some custom Python scripts from https://github.com/cgmeyer/gen3sdk-python\n",
    "import os\n",
    "os.system(\"wget https://raw.githubusercontent.com/cgmeyer/gen3sdk-python/master/expansion/expansion.py\")\n"
   ]
  },
  {
   "cell_type": "code",

   "execution_count": null,

   "metadata": {},
   "outputs": [
    {
     "name": "stderr",
     "output_type": "stream",
     "text": [
      "Matplotlib is building the font cache; this may take a moment.\n"
     ]
    }
   ],
   "source": [
    "from stress_testing.expansion_bak import Gen3Expansion"
   ]
  },
  {
   "cell_type": "code",

   "execution_count": null,
   "metadata": {},
   "outputs": [],

   "source": [
    "# Initiate instances of the Gen3 SDK Classes using credentials file downloaded from https://staging.midrc.org/identity\n",
    "# You can view the SDK code/functions in GitHub: https://github.com/uc-cdis/gen3sdk-python\n",
    "api = 'https://spencer.planx-pla.net/'\n",
    "cred = '/Users/saxelrod/api_creds/spencer.planx-pla.net/credentials.json'\n",
    "auth = Gen3Auth(api, refresh_file=cred) # authentication class\n",
    "# print(auth.get_access_token())\n",
    "sub = Gen3Submission(api, auth) # submission class\n",
    "query = Gen3Query(auth) # query class\n",
    "exp = Gen3Expansion(api,auth,sub) # class with some custom scripts\n",
    "exp.get_project_ids()"
   ]
  },
  {
   "cell_type": "code",
   "execution_count": null,
   "metadata": {},
   "outputs": [],
   "source": [
    "# Initiate instances of the Gen3 SDK Classes using credentials file downloaded from https://staging.midrc.org/identity\n",
    "# You can view the SDK code/functions in GitHub: https://github.com/uc-cdis/gen3sdk-python\n",
    "api = 'https://piotr.planx-pla.net/'\n",
    "cred = 'piotr_api_key.json'\n",
    "auth = Gen3Auth(api, refresh_file=cred) # authentication class\n",
    "sub = Gen3Submission(api, auth) # submission class\n",
    "query = Gen3Query(auth) # query class\n",
    "exp = Gen3Expansion(api,auth,sub) # class with some custom scripts\n",
    "exp.get_project_ids()"
   ]
  },
  {
   "cell_type": "code",
   "execution_count": null,
   "metadata": {},

   "outputs": [],

   "source": [
    "img_stud = exp.get_node_tsvs(projects = 'DEV-test', node='demographic', overwrite=True)"
   ]
  },
  {
   "cell_type": "code",
   "execution_count": null,
   "metadata": {},
   "outputs": [],
   "source": [

    "# #increasing the volume of the number of records by 10 fold for testing purposes\n",
    "# img_stud_list = [img_stud.copy(deep=True) for i in range(10)]\n",
    "# for i in range(10):\n",
    "#     img_stud_list[i][\"submitter_id\"] = img_stud['submitter_id']+\"_\"+str(i) #changing the submitter_id to make them unique\n",

    "\n",
    "# img_stud = pd.concat(img_stud_list)\n"
   ]
  },
  {
   "cell_type": "code",
   "execution_count": 25,
   "metadata": {},
   "outputs": [
    {
     "name": "stdout",
     "output_type": "stream",
     "text": [
      "   type                                    id project_id  \\\n",
      "0  case  dae72fd2-03e8-4f24-afa7-eb7985675cc2   DEV-test   \n",
      "0  case  dae72fd2-03e8-4f24-afa7-eb7985675cc2   DEV-test   \n",
      "0  case  dae72fd2-03e8-4f24-afa7-eb7985675cc2   DEV-test   \n",
      "0  case  dae72fd2-03e8-4f24-afa7-eb7985675cc2   DEV-test   \n",
      "0  case  dae72fd2-03e8-4f24-afa7-eb7985675cc2   DEV-test   \n",
      "0  case  dae72fd2-03e8-4f24-afa7-eb7985675cc2   DEV-test   \n",
      "0  case  dae72fd2-03e8-4f24-afa7-eb7985675cc2   DEV-test   \n",
      "0  case  dae72fd2-03e8-4f24-afa7-eb7985675cc2   DEV-test   \n",
      "0  case  dae72fd2-03e8-4f24-afa7-eb7985675cc2   DEV-test   \n",
      "0  case  dae72fd2-03e8-4f24-afa7-eb7985675cc2   DEV-test   \n",
      "\n",
      "                submitter_id  consent_codes           disease_type  \\\n",
      "0  case_unidextrality_mesa_0            NaN  tambouret_selenodonty   \n",
      "0  case_unidextrality_mesa_1            NaN  tambouret_selenodonty   \n",
      "0  case_unidextrality_mesa_2            NaN  tambouret_selenodonty   \n",
      "0  case_unidextrality_mesa_3            NaN  tambouret_selenodonty   \n",
      "0  case_unidextrality_mesa_4            NaN  tambouret_selenodonty   \n",
      "0  case_unidextrality_mesa_5            NaN  tambouret_selenodonty   \n",
      "0  case_unidextrality_mesa_6            NaN  tambouret_selenodonty   \n",
      "0  case_unidextrality_mesa_7            NaN  tambouret_selenodonty   \n",
      "0  case_unidextrality_mesa_8            NaN  tambouret_selenodonty   \n",
      "0  case_unidextrality_mesa_9            NaN  tambouret_selenodonty   \n",
      "\n",
      "     primary_site                        experiments.id  \\\n",
      "0  refutably_flub  5b2ee782-ea12-47ae-8980-3d814c3045dc   \n",
      "0  refutably_flub  5b2ee782-ea12-47ae-8980-3d814c3045dc   \n",
      "0  refutably_flub  5b2ee782-ea12-47ae-8980-3d814c3045dc   \n",
      "0  refutably_flub  5b2ee782-ea12-47ae-8980-3d814c3045dc   \n",
      "0  refutably_flub  5b2ee782-ea12-47ae-8980-3d814c3045dc   \n",
      "0  refutably_flub  5b2ee782-ea12-47ae-8980-3d814c3045dc   \n",
      "0  refutably_flub  5b2ee782-ea12-47ae-8980-3d814c3045dc   \n",
      "0  refutably_flub  5b2ee782-ea12-47ae-8980-3d814c3045dc   \n",
      "0  refutably_flub  5b2ee782-ea12-47ae-8980-3d814c3045dc   \n",
      "0  refutably_flub  5b2ee782-ea12-47ae-8980-3d814c3045dc   \n",
      "\n",
      "     experiments.submitter_id  \n",
      "0  experiment_bebait_striving  \n",
      "0  experiment_bebait_striving  \n",
      "0  experiment_bebait_striving  \n",
      "0  experiment_bebait_striving  \n",
      "0  experiment_bebait_striving  \n",
      "0  experiment_bebait_striving  \n",
      "0  experiment_bebait_striving  \n",
      "0  experiment_bebait_striving  \n",
      "0  experiment_bebait_striving  \n",
      "0  experiment_bebait_striving  \n"
     ]
    }
   ],
   "source": [
    "print((img_stud))"
   ]
  },
  {
   "cell_type": "markdown",
   "metadata": {},
   "source": [
    "type\n",
    "submitter_id\t\n",
    "datasets\n",
    "cases"
   ]
  },
  {
   "cell_type": "code",
   "execution_count": null,
   "metadata": {},
   "outputs": [],
   "source": [
    "# Trim down the number of records to 4000 to save time on submission\n",
    "img_stud = img_stud.head(4000)\n",
    "len(img_stud)"
   ]
  },
  {
   "cell_type": "code",

   "execution_count": null,

   "metadata": {},
   "outputs": [],
   "source": [
    "#img_stud = img_stud[['type', 'submitter_id', 'datasets.submitter_id', 'cases.submitter_id']]\n",
    "\n",
    "#img_stud['datasets.submitter_id'] = 'dataset_backpedalled_usurers'\n",
    "\n",
    "img_stud.to_csv('test_img_stud.tsv', sep='\\t', index=False)\n",
    "\n"
   ]
  },
  {
   "cell_type": "code",

   "execution_count": null,
   "metadata": {},
   "outputs": [],

   "source": [
    "import time\n",
    "start = time.time()\n",
    "sub_test = sub.submit_file(project_id = 'DEV-test', filename = 'test_img_stud.tsv', chunk_size=1000)\n",
    "end = time.time()\n",
    "time_taken = end - start\n"
   ]
  },
  {
   "cell_type": "code",
   "execution_count": null,
   "metadata": {},
   "outputs": [],
   "source": []
  },
  {
   "cell_type": "code",
   "execution_count": null,
   "metadata": {},
   "outputs": [],
   "source": [
    "\n",
    "print(f\"time taken to push {len(img_stud)} recoords with sheepdog piotr_laod_testing workers = 2 and psycopg2-binary = 3.9.0 - {time_taken}\")\n",
    "\n",
    "#These are the values of the time taken to push 8100 records to the service\n",
    "time_load_test_branch = 628.9082880020142  #But the chunk size was cut down to 500\n",
    "time_load_test_branch_new_base = 641.9752421379089 #but service didn't fail after 1min, keeping chunk size at 1000\n",
    "time_load_2501 = 299.92830085754395 # Benchnark time for 8100 records with tag 25.01\n"
   ]
  },
  {
   "cell_type": "code",
   "execution_count": null,
   "metadata": {},
   "outputs": [],
   "source": [
    "print(\"time taken to push 4000 recoords with sheepdog load_test_branch with (num_procs * 2) + 1 workers- 408.41149735450745\")\n",
    "print(\"time taken to push 4000 recoords with sheepdog load_test_branch with workers = 1 --> 402.67703795433044\")\n",
    "print(\"time taken to push 4000 recoords with sheepdog 2025.01 - 161.08299779891968\")\n",
    "print(\"time taken to push 4000 recoords with sheepdog load_testing_branch with preload_app = False and 4 workers- 371.7728190422058\")\n",
    "print(\"time taken to push 4000 recoords with sheepdog load_testing workers = 1, preload = True - 427.6445198059082\")\n",
    "print(\"time taken to push 4000 recoords with sheepdog piotr_laod_testing workers = 4,  - 316.553505897522\")\n",
    "print(\"time taken to push 4000 recoords with sheepdog piotr_laod_testing workers = 2 - 369.94946694374084\")"
   ]
  },
  {
   "cell_type": "code",
   "execution_count": null,
   "metadata": {},
   "outputs": [],
   "source": []
  }
 ],
 "metadata": {
  "kernelspec": {
   "display_name": ".venv",
   "language": "python",
   "name": "python3"
  },
  "language_info": {
   "codemirror_mode": {
    "name": "ipython",
    "version": 3
   },
   "file_extension": ".py",
   "mimetype": "text/x-python",
   "name": "python",
   "nbconvert_exporter": "python",
   "pygments_lexer": "ipython3",
   "version": "3.9.6"
  }
 },
 "nbformat": 4,
 "nbformat_minor": 2
}
