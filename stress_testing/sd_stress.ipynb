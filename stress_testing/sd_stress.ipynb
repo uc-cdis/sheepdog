{
 "cells": [
  {
   "cell_type": "code",
   "execution_count": 18,
   "metadata": {},
   "outputs": [],
   "source": [
    "\n",
    "#Install required libraries\n",
    "import pandas as pd\n",
    "from gen3.submission import Gen3Submission\n",
    "from gen3.auth import Gen3Auth\n",
    "from gen3.query import Gen3Query"
   ]
  },
  {
   "cell_type": "code",
   "execution_count": 19,
   "metadata": {},
   "outputs": [],
   "source": [
    "### download and import some custom Python scripts from https://github.com/cgmeyer/gen3sdk-python\n",
    "# import os\n",
    "#os.system(\"wget https://raw.githubusercontent.com/cgmeyer/gen3sdk-python/master/expansion/expansion.py\")\n"
   ]
  },
  {
   "cell_type": "code",
   "execution_count": 20,
   "metadata": {},
   "outputs": [],
   "source": [
    "from expansion import Gen3Expansion"
   ]
  },
  {
   "cell_type": "code",
   "execution_count": 21,
   "metadata": {},
   "outputs": [
    {
     "name": "stdout",
     "output_type": "stream",
     "text": [
      "Getting all project_ids you have access to in https://qa-midrc.planx-pla.net/\n",
      "['jnkns-jenkins', 'jnkns-load_test', 'jnkns-test.123', 'jnkns-test123']\n"
     ]
    },
    {
     "data": {
      "text/plain": [
       "['jnkns-jenkins', 'jnkns-load_test', 'jnkns-test.123', 'jnkns-test123']"
      ]
     },
     "execution_count": 21,
     "metadata": {},
     "output_type": "execute_result"
    }
   ],
   "source": [
    "# Initiate instances of the Gen3 SDK Classes using credentials file downloaded from https://staging.midrc.org/identity\n",
    "# You can view the SDK code/functions in GitHub: https://github.com/uc-cdis/gen3sdk-python\n",
    "api = 'https://qa-midrc.planx-pla.net/'\n",
    "cred = 'midrc_api_key.json'\n",
    "auth = Gen3Auth(api, refresh_file=cred) # authentication class\n",
    "sub = Gen3Submission(api, auth) # submission class\n",
    "query = Gen3Query(auth) # query class\n",
    "exp = Gen3Expansion(api,auth,sub) # class with some custom scripts\n",
    "exp.get_project_ids()"
   ]
  },
  {
   "cell_type": "code",
   "execution_count": 34,
   "metadata": {},
   "outputs": [
    {
     "name": "stdout",
     "output_type": "stream",
     "text": [
      "\n",
      "Output written to file: node_tsvs/imaging_study_tsvs/jnkns-jenkins_imaging_study.tsv\n",
      "node_tsvs/imaging_study_tsvs/jnkns-jenkins_imaging_study.tsv has 8914 records.\n",
      "length of all dfs: 8914\n",
      "Master node TSV with 8914 total records written to master_imaging_study.tsv.\n"
     ]
    }
   ],
   "source": [
    "img_stud = exp.get_node_tsvs(projects = 'jnkns-jenkins', node='imaging_study', overwrite=True)"
   ]
  },
  {
   "cell_type": "code",
   "execution_count": null,
   "metadata": {},
   "outputs": [],
   "source": [
    "#increasing the volume of the number of records by 10 fold for testing purposes\n",
    "img_stud_list = [img_stud.copy(deep=True) for i in range(10)]\n",
    "for i in range(10):\n",
    "    img_stud_list[i][\"submitter_id\"] = img_stud['submitter_id']+\"_\"+str(i) #changing the submitter_id to make them unique\n",
    "\n",
    "img_stud = pd.concat(img_stud_list)\n"
   ]
  },
  {
   "cell_type": "markdown",
   "metadata": {},
   "source": [
    "type\n",
    "submitter_id\t\n",
    "datasets\n",
    "cases"
   ]
  },
  {
   "cell_type": "code",
   "execution_count": null,
   "metadata": {},
   "outputs": [
    {
     "data": {
      "text/plain": [
       "4000"
      ]
     },
     "execution_count": 39,
     "metadata": {},
     "output_type": "execute_result"
    }
   ],
   "source": [
    "# Trim down the number of records to 4000 to save time on submission\n",
    "img_stud = img_stud.head(4000)\n",
    "len(img_stud)"
   ]
  },
  {
   "cell_type": "code",
   "execution_count": 36,
   "metadata": {},
   "outputs": [],
   "source": [
    "img_stud = img_stud[['type', 'submitter_id', 'datasets.submitter_id', 'cases.submitter_id']]\n",
    "\n",
    "img_stud['datasets.submitter_id'] = 'dataset_backpedalled_usurers'\n",
    "\n",
    "\n",
    "img_stud.to_csv('test_img_stud.tsv', sep='\\t', index=False)\n",
    "\n"
   ]
  },
  {
   "cell_type": "code",
   "execution_count": 37,
   "metadata": {},
   "outputs": [
    {
     "name": "stdout",
     "output_type": "stream",
     "text": [
      "\n",
      "Submitting test_img_stud.tsv with 4000 records.\n",
      "Chunk 1 (chunk size: 1000, submitted: 0 of 4000)\n",
      "\t Succeeded: 1000 entities.\n",
      "Chunk 2 (chunk size: 1000, submitted: 1000 of 4000)\n",
      "\t Succeeded: 1000 entities.\n",
      "Chunk 3 (chunk size: 1000, submitted: 2000 of 4000)\n",
      "\t Succeeded: 1000 entities.\n",
      "Chunk 4 (chunk size: 1000, submitted: 3000 of 4000)\n",
      "\t Succeeded: 1000 entities.\n",
      "Chunk 5 (chunk size: 1000, submitted: 4000 of 4000)\n",
      "\tChunk Failed (status code 400): 0 entities.\n",
      "\tInvalid records in this chunk: 0\n",
      "Finished data submission.\n",
      "Successful records: 4000\n",
      "Failed invalid records: 0\n"
     ]
    }
   ],
   "source": [
    "import time\n",
    "start = time.time()\n",
    "sub_test = sub.submit_file(project_id = 'jnkns-jenkins', filename = 'test_img_stud.tsv', chunk_size=1000)\n",
    "end = time.time()\n",
    "time_taken = end - start\n"
   ]
  },
  {
   "cell_type": "code",
   "execution_count": 38,
   "metadata": {},
   "outputs": [
    {
     "name": "stdout",
     "output_type": "stream",
     "text": [
      "time taken to push 810 recoords with sheepdog load_test_branch - 442.25717210769653\n"
     ]
    }
   ],
   "source": [
    "\n",
    "print(f\"time taken to push 810 recoords with sheepdog load_test_branch - {time_taken}\")\n",
    "\n",
    "#These are the values of the time taken to push 8100 records to the service\n",
    "time_load_test_branch = 628.9082880020142  #But the chunk size was cut down to 500\n",
    "time_load_test_branch_new_base = 641.9752421379089 #but service didn't fail after 1min, keeping chunk size at 1000\n",
    "time_load_2501 = 299.92830085754395 # Benchnark time for 8100 records with tag 25.01\n"
   ]
  }
 ],
 "metadata": {
  "kernelspec": {
   "display_name": "sheepdog_3913",
   "language": "python",
   "name": "python3"
  },
  "language_info": {
   "codemirror_mode": {
    "name": "ipython",
    "version": 3
   },
   "file_extension": ".py",
   "mimetype": "text/x-python",
   "name": "python",
   "nbconvert_exporter": "python",
   "pygments_lexer": "ipython3",
   "version": "3.9.13"
  }
 },
 "nbformat": 4,
 "nbformat_minor": 2
}
